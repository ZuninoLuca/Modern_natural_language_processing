{
 "cells": [
  {
   "attachments": {},
   "cell_type": "markdown",
   "metadata": {},
   "source": [
    "# Detoxification of the 'hh-rlhf_eval' dataset"
   ]
  },
  {
   "attachments": {},
   "cell_type": "markdown",
   "metadata": {},
   "source": [
    "Since, as stated in the report for M2, we found out that many datapoints of the 'hh-rlhf_eval' are severely toxic, in this notebook we detoxify the processed dataset. To do so, we use the 'Detoxify' model and we set as a \"toxic threshold\" 0.1/1 (since we want to be sure to avoid introducing toxic datapoints at all costs)."
   ]
  },
  {
   "cell_type": "code",
   "execution_count": null,
   "metadata": {},
   "outputs": [],
   "source": [
    "!pip install detoxify"
   ]
  },
  {
   "cell_type": "code",
   "execution_count": null,
   "metadata": {},
   "outputs": [],
   "source": [
    "import json\n",
    "from detoxify import Detoxify\n",
    "import pandas as pd\n",
    "from tqdm import tqdm\n",
    "\n",
    "# Substitute this name with the training split to detoxify the training dataset\n",
    "json_to_detoxify = 'hh-rlhf_eval'\n",
    "json_detoxified = json_to_detoxify + '_detoxified.json'\n",
    "json_toxic = json_to_detoxify + '_toxic.json'\n",
    "json_to_detoxify = json_to_detoxify + '.json'\n",
    "\n",
    "count = 0\n",
    "count_tox = 0\n",
    "\n",
    "# Load the JSON file\n",
    "with open(json_to_detoxify) as file:\n",
    "    data = json.load(file)\n",
    "\n",
    "# Initialize Detoxify\n",
    "model = Detoxify('original')\n",
    "\n",
    "# This list will hold non-toxic data points\n",
    "non_toxic_data = []\n",
    "\n",
    "# This list will hold toxic data points\n",
    "toxic_data = []\n",
    "\n",
    "# Loop over the data points in the loaded JSON data\n",
    "for datapoint in tqdm(data):\n",
    "    is_toxic = False\n",
    "    # Loop over the entries in each data point\n",
    "    for entry in datapoint.values():\n",
    "        # If the entry is a string\n",
    "        if isinstance(entry, str):\n",
    "            # Check if the entry is toxic\n",
    "            results = model.predict(entry)\n",
    "            if results['toxicity'] > 0.1:  # The threshold can be adjusted according to the \"toxicity level\"\n",
    "                is_toxic = True\n",
    "                break\n",
    "    \n",
    "    # If none of the entries was toxic, add the data point to the non_toxic_data list\n",
    "    if not is_toxic:\n",
    "        count += 1\n",
    "        non_toxic_data.append(datapoint)\n",
    "    else:\n",
    "        count_tox += 1\n",
    "        toxic_data.append(datapoint)\n",
    "\n",
    "# Write non-toxic data points to a new JSON file\n",
    "with open(json_detoxified, 'w') as file:\n",
    "    json.dump(non_toxic_data, file)\n",
    "\n",
    "# Write toxic data points to a new JSON file\n",
    "with open(json_toxic, 'w') as file:\n",
    "    json.dump(toxic_data, file)\n",
    "\n",
    "print('Number of non-toxic data points: ', count)\n",
    "print('Number of toxic data points: ', count_tox)"
   ]
  }
 ],
 "metadata": {
  "kernelspec": {
   "display_name": "Python 3",
   "language": "python",
   "name": "python3"
  },
  "language_info": {
   "codemirror_mode": {
    "name": "ipython",
    "version": 3
   },
   "file_extension": ".py",
   "mimetype": "text/x-python",
   "name": "python",
   "nbconvert_exporter": "python",
   "pygments_lexer": "ipython3",
   "version": "3.11.2"
  },
  "orig_nbformat": 4
 },
 "nbformat": 4,
 "nbformat_minor": 2
}
