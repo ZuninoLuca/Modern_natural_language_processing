{
 "cells": [
  {
   "attachments": {},
   "cell_type": "markdown",
   "metadata": {},
   "source": [
    "# Processing of the 'synthetic-instruct-gptj-pairwise' dataset"
   ]
  },
  {
   "attachments": {},
   "cell_type": "markdown",
   "metadata": {},
   "source": [
    "In this notebook, we process the dataset 'synthetic-instruct-gptj-pairwise' which is available on [HuggingFace](https://huggingface.co/datasets/Dahoas/synthetic-instruct-gptj-pairwise) in order to convert it to the format needed by our reward model."
   ]
  },
  {
   "attachments": {},
   "cell_type": "markdown",
   "metadata": {},
   "source": [
    "We start by processing the train split:"
   ]
  },
  {
   "cell_type": "code",
   "execution_count": null,
   "metadata": {},
   "outputs": [],
   "source": [
    "# Step 1: Install required libraries\n",
    "!pip install datasets tqdm matplotlib\n",
    "\n",
    "# Step 2: Import libraries\n",
    "import json\n",
    "import matplotlib.pyplot as plt\n",
    "from tqdm import tqdm\n",
    "from datasets import load_dataset\n",
    "\n",
    "# Step 3: Load the dataset\n",
    "dataset = load_dataset('Dahoas/synthetic-instruct-gptj-pairwise')\n",
    "\n",
    "# Step 4: Initialize a counter and a list to hold the processed data\n",
    "processed_data = []\n",
    "counter = 0\n",
    "\n",
    "# Step 5: Process the dataset and save data in the required format\n",
    "num_datapoints = int(1.6 * len(dataset['train']))\n",
    "for data in tqdm(dataset['train']):\n",
    "    # The first 80% of the dataset is used for training and the remaining 20% is used for validation\n",
    "    if counter == num_datapoints:\n",
    "        break\n",
    "\n",
    "    # We arbitrarily assign a grade of 5 to the chosen chat and a grade of 0 to the rejected chat\n",
    "    # (see the report for more details on this)\n",
    "    processed_data.append({\n",
    "        \"chat\": f\"Human: {data['prompt']} \\n\\nAssistant: {data['chosen']} \",\n",
    "        \"grade\": 5\n",
    "    })\n",
    "    processed_data.append({\n",
    "        \"chat\": f\"Human: {data['prompt']} \\n\\nAssistant: {data['rejected']} \",\n",
    "        \"grade\": 0\n",
    "    })\n",
    "    counter += 2  # Increase counter\n",
    "\n",
    "# Step 6: Save the processed data to a json file\n",
    "with open('synthetic-instruct-gptj-pairwise_train.json', 'w') as f:\n",
    "    json.dump(processed_data, f)\n",
    "\n",
    "print(f'Total datapoints processed: {counter}')"
   ]
  },
  {
   "attachments": {},
   "cell_type": "markdown",
   "metadata": {},
   "source": [
    "And we then process the test split:"
   ]
  },
  {
   "cell_type": "code",
   "execution_count": null,
   "metadata": {},
   "outputs": [],
   "source": [
    "# Step 1: Load the dataset\n",
    "dataset = load_dataset('Dahoas/synthetic-instruct-gptj-pairwise')\n",
    "\n",
    "# Step 2: Initialize a counter and a list to hold the processed data\n",
    "processed_data = []\n",
    "counter = 0\n",
    "\n",
    "# Step 3: Process the dataset and save data in the required format\n",
    "num_datapoints = int(0.8 * len(dataset['train']))\n",
    "for data in tqdm(dataset['train']):\n",
    "    # The first 80% of the dataset is used for training and the remaining 20% is used for validation\n",
    "    if counter >= num_datapoints:\n",
    "        processed_data.append({\n",
    "            \"chosen\": f\"Human: {data['prompt']} \\n\\nAssistant: {data['chosen']}\",\n",
    "            \"rejected\": f\"Human: {data['prompt']} \\n\\nAssistant: {data['rejected']}\"\n",
    "        })\n",
    "    counter += 1  # Increase counter\n",
    "\n",
    "# Step 4: Save the processed data to a json file\n",
    "with open('synthetic-instruct-gptj-pairwise_eval.json', 'w') as f:\n",
    "    json.dump(processed_data, f)\n",
    "\n",
    "print(f'Total datapoints processed: {counter}')"
   ]
  }
 ],
 "metadata": {
  "kernelspec": {
   "display_name": "Python 3",
   "language": "python",
   "name": "python3"
  },
  "language_info": {
   "codemirror_mode": {
    "name": "ipython",
    "version": 3
   },
   "file_extension": ".py",
   "mimetype": "text/x-python",
   "name": "python",
   "nbconvert_exporter": "python",
   "pygments_lexer": "ipython3",
   "version": "3.11.2"
  },
  "orig_nbformat": 4
 },
 "nbformat": 4,
 "nbformat_minor": 2
}
