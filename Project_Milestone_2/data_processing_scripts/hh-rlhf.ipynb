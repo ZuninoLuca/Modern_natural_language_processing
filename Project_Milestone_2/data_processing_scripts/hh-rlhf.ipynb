{
 "cells": [
  {
   "attachments": {},
   "cell_type": "markdown",
   "metadata": {},
   "source": [
    "# Processing of the 'hh-rlhf' dataset"
   ]
  },
  {
   "attachments": {},
   "cell_type": "markdown",
   "metadata": {},
   "source": [
    "In this notebook, we process the dataset 'hh-rlhf' which is available on [HuggingFace](https://huggingface.co/datasets/Anthropic/hh-rlhf) in order to convert it to the format needed by our reward model."
   ]
  },
  {
   "attachments": {},
   "cell_type": "markdown",
   "metadata": {},
   "source": [
    "We start by processing the train split:"
   ]
  },
  {
   "cell_type": "code",
   "execution_count": null,
   "metadata": {},
   "outputs": [],
   "source": [
    "# Step 1: Install required libraries\n",
    "!pip install datasets tqdm matplotlib\n",
    "\n",
    "# Step 2: Import libraries\n",
    "import json\n",
    "import matplotlib.pyplot as plt\n",
    "from tqdm import tqdm\n",
    "from datasets import load_dataset\n",
    "\n",
    "# Step 3: Load the dataset\n",
    "dataset = load_dataset('Anthropic/hh-rlhf')\n",
    "\n",
    "# Step 4: Initialize a counter and a list to hold the processed data\n",
    "processed_data = []\n",
    "counter = 0\n",
    "\n",
    "# Step 5: Process the dataset and save data in the required format\n",
    "for data in tqdm(dataset['train']):\n",
    "    # Replace \" Assistant: \" and \" Human: \" with \" \\n\\nAssistant: \" and \" \\n\\nHuman: \" respectively\n",
    "    chosen_chat = data['chosen'].replace(\" Assistant: \", \" \\n\\nAssistant: \").replace(\" Human: \", \" \\n\\nHuman: \")\n",
    "    rejected_chat = data['rejected'].replace(\" Assistant: \", \" \\n\\nAssistant: \").replace(\" Human: \", \" \\n\\nHuman: \")\n",
    "\n",
    "    # Remove any leading newline characters\n",
    "    chosen_chat = chosen_chat.lstrip(\"\\n\")\n",
    "    rejected_chat = rejected_chat.lstrip(\"\\n\")\n",
    "    \n",
    "    # We arbitrarily assign a grade of 5 to the chosen chat and a grade of 0 to the rejected chat\n",
    "    # (see the report for more details on this)\n",
    "    processed_data.append({\n",
    "        \"chat\": chosen_chat,\n",
    "        \"grade\": 5\n",
    "    })\n",
    "    processed_data.append({\n",
    "        \"chat\": rejected_chat,\n",
    "        \"grade\": 0\n",
    "    })\n",
    "    counter += 2  # Increase counter\n",
    "\n",
    "# Step 6: Save the processed data to a json file\n",
    "with open('hh-rlhf_train.json', 'w') as f:\n",
    "    json.dump(processed_data, f)\n",
    "\n",
    "print(f'Total datapoints processed: {counter}')"
   ]
  },
  {
   "attachments": {},
   "cell_type": "markdown",
   "metadata": {},
   "source": [
    "And we then process the test split:"
   ]
  },
  {
   "cell_type": "code",
   "execution_count": null,
   "metadata": {},
   "outputs": [],
   "source": [
    "# Step 1: Load the dataset\n",
    "dataset = load_dataset('Anthropic/hh-rlhf')\n",
    "\n",
    "# Step 2: Initialize a counter and a list to hold the processed data\n",
    "processed_data = []\n",
    "counter = 0\n",
    "\n",
    "# Step 3: Process the dataset and save data in the required format\n",
    "for data in tqdm(dataset['test']):\n",
    "    # Replace \" Assistant: \" and \" Human: \" with \" \\n\\nAssistant: \" and \" \\n\\nHuman: \" respectively\n",
    "    chosen_chat = data['chosen'].replace(\" Assistant: \", \" \\n\\nAssistant: \").replace(\" Human: \", \" \\n\\nHuman: \")\n",
    "    rejected_chat = data['rejected'].replace(\" Assistant: \", \" \\n\\nAssistant: \").replace(\" Human: \", \" \\n\\nHuman: \")\n",
    "\n",
    "    # Remove any leading newline characters\n",
    "    chosen_chat = chosen_chat.lstrip(\"\\n\")\n",
    "    rejected_chat = rejected_chat.lstrip(\"\\n\")\n",
    "\n",
    "    processed_data.append({\n",
    "        \"chosen\": chosen_chat,\n",
    "        \"rejected\": rejected_chat\n",
    "    })\n",
    "    counter += 1  # Increase counter\n",
    "\n",
    "# Step 4: Save the processed data to a json file\n",
    "with open('hh-rlhf_eval.json', 'w') as f:\n",
    "    json.dump(processed_data, f)\n",
    "\n",
    "print(f'Total datapoints processed: {counter}')"
   ]
  }
 ],
 "metadata": {
  "kernelspec": {
   "display_name": "Python 3",
   "language": "python",
   "name": "python3"
  },
  "language_info": {
   "codemirror_mode": {
    "name": "ipython",
    "version": 3
   },
   "file_extension": ".py",
   "mimetype": "text/x-python",
   "name": "python",
   "nbconvert_exporter": "python",
   "pygments_lexer": "ipython3",
   "version": "3.11.2"
  },
  "orig_nbformat": 4
 },
 "nbformat": 4,
 "nbformat_minor": 2
}
